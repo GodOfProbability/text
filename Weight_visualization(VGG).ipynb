{
 "metadata": {
  "name": ""
 },
 "nbformat": 3,
 "nbformat_minor": 0,
 "worksheets": [
  {
   "cells": [
    {
     "cell_type": "code",
     "collapsed": false,
     "input": [
      "from __future__ import print_function\n",
      "from scipy.misc import imsave\n",
      "import numpy as np\n",
      "import time\n",
      "import os\n",
      "import h5py\n",
      "\n",
      "from keras.models import Sequential\n",
      "from keras.layers import Convolution2D, ZeroPadding2D, MaxPooling2D\n",
      "from keras import backend as K"
     ],
     "language": "python",
     "metadata": {},
     "outputs": [
      {
       "output_type": "stream",
       "stream": "stderr",
       "text": [
        "Using Theano backend.\n"
       ]
      }
     ],
     "prompt_number": 1
    },
    {
     "cell_type": "code",
     "collapsed": false,
     "input": [
      "img_width = 128\n",
      "img_height = 128\n",
      "\n",
      "# path to the model weights file.\n",
      "weights_path = '/media/perceptron/54B4F78779120A69/vgg16_weights.h5'\n",
      "\n",
      "# the name of the layer we want to visualize (see model definition below)\n",
      "layer_name = 'conv5_1'\n",
      "\n",
      "# util function to convert a tensor into a valid image\n",
      "\n",
      "\n",
      "# build the VGG16 network\n",
      "model = Sequential()\n",
      "model.add(ZeroPadding2D((1, 1), batch_input_shape=(1, 3, img_width, img_height)))\n",
      "first_layer = model.layers[-1]\n",
      "# this is a placeholder tensor that will contain our generated images\n",
      "input_img = first_layer.input\n",
      "\n",
      "model.add(Convolution2D(64, 3, 3, activation='relu', name='conv1_1'))\n",
      "model.add(ZeroPadding2D((1, 1)))\n",
      "model.add(Convolution2D(64, 3, 3, activation='relu', name='conv1_2'))\n",
      "model.add(MaxPooling2D((2, 2), strides=(2, 2)))\n",
      "\n",
      "model.add(ZeroPadding2D((1, 1)))\n",
      "model.add(Convolution2D(128, 3, 3, activation='relu', name='conv2_1'))\n",
      "model.add(ZeroPadding2D((1, 1)))\n",
      "model.add(Convolution2D(128, 3, 3, activation='relu', name='conv2_2'))\n",
      "model.add(MaxPooling2D((2, 2), strides=(2, 2)))\n",
      "\n",
      "model.add(ZeroPadding2D((1, 1)))\n",
      "model.add(Convolution2D(256, 3, 3, activation='relu', name='conv3_1'))\n",
      "model.add(ZeroPadding2D((1, 1)))\n",
      "model.add(Convolution2D(256, 3, 3, activation='relu', name='conv3_2'))\n",
      "model.add(ZeroPadding2D((1, 1)))\n",
      "model.add(Convolution2D(256, 3, 3, activation='relu', name='conv3_3'))\n",
      "model.add(MaxPooling2D((2, 2), strides=(2, 2)))\n",
      "\n",
      "model.add(ZeroPadding2D((1, 1)))\n",
      "model.add(Convolution2D(512, 3, 3, activation='relu', name='conv4_1'))\n",
      "model.add(ZeroPadding2D((1, 1)))\n",
      "model.add(Convolution2D(512, 3, 3, activation='relu', name='conv4_2'))\n",
      "model.add(ZeroPadding2D((1, 1)))\n",
      "model.add(Convolution2D(512, 3, 3, activation='relu', name='conv4_3'))\n",
      "model.add(MaxPooling2D((2, 2), strides=(2, 2)))\n",
      "\n",
      "model.add(ZeroPadding2D((1, 1)))\n",
      "model.add(Convolution2D(512, 3, 3, activation='relu', name='conv5_1'))\n",
      "model.add(ZeroPadding2D((1, 1)))\n",
      "model.add(Convolution2D(512, 3, 3, activation='relu', name='conv5_2'))\n",
      "model.add(ZeroPadding2D((1, 1)))\n",
      "model.add(Convolution2D(512, 3, 3, activation='relu', name='conv5_3'))\n",
      "model.add(MaxPooling2D((2, 2), strides=(2, 2)))"
     ],
     "language": "python",
     "metadata": {},
     "outputs": [],
     "prompt_number": 2
    },
    {
     "cell_type": "code",
     "collapsed": false,
     "input": [
      "model.summary()"
     ],
     "language": "python",
     "metadata": {},
     "outputs": [
      {
       "output_type": "stream",
       "stream": "stdout",
       "text": [
        "____________________________________________________________________________________________________\n",
        "Layer (type)                     Output Shape          Param #     Connected to                     \n",
        "====================================================================================================\n",
        "zeropadding2d_1 (ZeroPadding2D)  (1, 3, 130, 130)      0           zeropadding2d_input_1[0][0]      \n",
        "____________________________________________________________________________________________________\n",
        "conv1_1 (Convolution2D)          (1, 64, 128, 128)     1792        zeropadding2d_1[0][0]            "
       ]
      },
      {
       "output_type": "stream",
       "stream": "stdout",
       "text": [
        "\n",
        "____________________________________________________________________________________________________\n",
        "zeropadding2d_2 (ZeroPadding2D)  (1, 64, 130, 130)     0           conv1_1[0][0]                    \n",
        "____________________________________________________________________________________________________\n",
        "conv1_2 (Convolution2D)          (1, 64, 128, 128)     36928       zeropadding2d_2[0][0]            "
       ]
      },
      {
       "output_type": "stream",
       "stream": "stdout",
       "text": [
        "\n",
        "____________________________________________________________________________________________________\n",
        "maxpooling2d_1 (MaxPooling2D)    (1, 64, 64, 64)       0           conv1_2[0][0]                    \n",
        "____________________________________________________________________________________________________\n",
        "zeropadding2d_3 (ZeroPadding2D)  (1, 64, 66, 66)       0           maxpooling2d_1[0][0]             \n",
        "____________________________________________________________________________________________________\n",
        "conv2_1 (Convolution2D)          (1, 128, 64, 64)      73856       zeropadding2d_3[0][0]            "
       ]
      },
      {
       "output_type": "stream",
       "stream": "stdout",
       "text": [
        "\n",
        "____________________________________________________________________________________________________\n",
        "zeropadding2d_4 (ZeroPadding2D)  (1, 128, 66, 66)      0           conv2_1[0][0]                    \n",
        "____________________________________________________________________________________________________\n",
        "conv2_2 (Convolution2D)          (1, 128, 64, 64)      147584      zeropadding2d_4[0][0]            "
       ]
      },
      {
       "output_type": "stream",
       "stream": "stdout",
       "text": [
        "\n",
        "____________________________________________________________________________________________________\n",
        "maxpooling2d_2 (MaxPooling2D)    (1, 128, 32, 32)      0           conv2_2[0][0]                    \n",
        "____________________________________________________________________________________________________\n",
        "zeropadding2d_5 (ZeroPadding2D)  (1, 128, 34, 34)      0           maxpooling2d_2[0][0]             \n",
        "____________________________________________________________________________________________________\n",
        "conv3_1 (Convolution2D)          (1, 256, 32, 32)      295168      zeropadding2d_5[0][0]            "
       ]
      },
      {
       "output_type": "stream",
       "stream": "stdout",
       "text": [
        "\n",
        "____________________________________________________________________________________________________\n",
        "zeropadding2d_6 (ZeroPadding2D)  (1, 256, 34, 34)      0           conv3_1[0][0]                    \n",
        "____________________________________________________________________________________________________\n",
        "conv3_2 (Convolution2D)          (1, 256, 32, 32)      590080      zeropadding2d_6[0][0]            "
       ]
      },
      {
       "output_type": "stream",
       "stream": "stdout",
       "text": [
        "\n",
        "____________________________________________________________________________________________________\n",
        "zeropadding2d_7 (ZeroPadding2D)  (1, 256, 34, 34)      0           conv3_2[0][0]                    \n",
        "____________________________________________________________________________________________________\n",
        "conv3_3 (Convolution2D)          (1, 256, 32, 32)      590080      zeropadding2d_7[0][0]            "
       ]
      },
      {
       "output_type": "stream",
       "stream": "stdout",
       "text": [
        "\n",
        "____________________________________________________________________________________________________\n",
        "maxpooling2d_3 (MaxPooling2D)    (1, 256, 16, 16)      0           conv3_3[0][0]                    \n",
        "____________________________________________________________________________________________________\n",
        "zeropadding2d_8 (ZeroPadding2D)  (1, 256, 18, 18)      0           maxpooling2d_3[0][0]             \n",
        "____________________________________________________________________________________________________\n",
        "conv4_1 (Convolution2D)          (1, 512, 16, 16)      1180160     zeropadding2d_8[0][0]            "
       ]
      },
      {
       "output_type": "stream",
       "stream": "stdout",
       "text": [
        "\n",
        "____________________________________________________________________________________________________\n",
        "zeropadding2d_9 (ZeroPadding2D)  (1, 512, 18, 18)      0           conv4_1[0][0]                    \n",
        "____________________________________________________________________________________________________\n",
        "conv4_2 (Convolution2D)          (1, 512, 16, 16)      2359808     zeropadding2d_9[0][0]            "
       ]
      },
      {
       "output_type": "stream",
       "stream": "stdout",
       "text": [
        "\n",
        "____________________________________________________________________________________________________\n",
        "zeropadding2d_10 (ZeroPadding2D) (1, 512, 18, 18)      0           conv4_2[0][0]                    \n",
        "____________________________________________________________________________________________________\n",
        "conv4_3 (Convolution2D)          (1, 512, 16, 16)      2359808     zeropadding2d_10[0][0]           "
       ]
      },
      {
       "output_type": "stream",
       "stream": "stdout",
       "text": [
        "\n",
        "____________________________________________________________________________________________________\n",
        "maxpooling2d_4 (MaxPooling2D)    (1, 512, 8, 8)        0           conv4_3[0][0]                    \n",
        "____________________________________________________________________________________________________\n",
        "zeropadding2d_11 (ZeroPadding2D) (1, 512, 10, 10)      0           maxpooling2d_4[0][0]             \n",
        "____________________________________________________________________________________________________\n",
        "conv5_1 (Convolution2D)          (1, 512, 8, 8)        2359808     zeropadding2d_11[0][0]           "
       ]
      },
      {
       "output_type": "stream",
       "stream": "stdout",
       "text": [
        "\n",
        "____________________________________________________________________________________________________\n",
        "zeropadding2d_12 (ZeroPadding2D) (1, 512, 10, 10)      0           conv5_1[0][0]                    \n",
        "____________________________________________________________________________________________________\n",
        "conv5_2 (Convolution2D)          (1, 512, 8, 8)        2359808     zeropadding2d_12[0][0]           "
       ]
      },
      {
       "output_type": "stream",
       "stream": "stdout",
       "text": [
        "\n",
        "____________________________________________________________________________________________________\n",
        "zeropadding2d_13 (ZeroPadding2D) (1, 512, 10, 10)      0           conv5_2[0][0]                    \n",
        "____________________________________________________________________________________________________\n",
        "conv5_3 (Convolution2D)          (1, 512, 8, 8)        2359808     zeropadding2d_13[0][0]           "
       ]
      },
      {
       "output_type": "stream",
       "stream": "stdout",
       "text": [
        "\n",
        "____________________________________________________________________________________________________\n",
        "maxpooling2d_5 (MaxPooling2D)    (1, 512, 4, 4)        0           conv5_3[0][0]                    \n",
        "====================================================================================================\n",
        "Total params: 14714688\n",
        "____________________________________________________________________________________________________\n"
       ]
      }
     ],
     "prompt_number": 3
    },
    {
     "cell_type": "code",
     "collapsed": false,
     "input": [
      "assert os.path.exists(weights_path), 'Model weights not found (see \"weights_path\" variable in script).'\n",
      "f = h5py.File(weights_path)\n",
      "for k in range(f.attrs['nb_layers']):\n",
      "    if k >= len(model.layers):\n",
      "        # we don't look at the last (fully-connected) layers in the savefile\n",
      "        break\n",
      "    g = f['layer_{}'.format(k)]\n",
      "    weights = [g['param_{}'.format(p)] for p in range(g.attrs['nb_params'])]\n",
      "    model.layers[k].set_weights(weights)\n",
      "f.close()\n",
      "print('Model loaded.')\n",
      "\n",
      "# get the symbolic outputs of each \"key\" layer (we gave them unique names).\n",
      "layer_dict = dict([(layer.name, layer) for layer in model.layers])"
     ],
     "language": "python",
     "metadata": {},
     "outputs": [
      {
       "output_type": "stream",
       "stream": "stdout",
       "text": [
        "Model loaded.\n"
       ]
      }
     ],
     "prompt_number": 4
    },
    {
     "cell_type": "code",
     "collapsed": false,
     "input": [
      "from matplotlib import pyplot as plt\n",
      "%matplotlib inline\n",
      "g = model.layers[3].get_weights()[0]\n",
      "f = np.mean(g, axis = 1)\n",
      "print (f[0,:,:].shape)\n",
      "for i in range(64):\n",
      "    img = deprocess_image(f[i])\n",
      "    plt.subplot(8,8,i)\n",
      "    plt.axis('off')\n",
      "    plt.imshow(img, aspect='auto', cmap='Greys_r')\n",
      "    if i==63:\n",
      "        plt.savefig('filters_2.png')"
     ],
     "language": "python",
     "metadata": {},
     "outputs": [
      {
       "output_type": "stream",
       "stream": "stdout",
       "text": [
        "(3, 3)\n"
       ]
      },
      {
       "metadata": {},
       "output_type": "display_data",
       "png": "[encoded data removed]",
       "text": [
        "<matplotlib.figure.Figure at 0x7fdfdd28d350>"
       ]
      }
     ],
     "prompt_number": 36
    },
    {
     "cell_type": "code",
     "collapsed": false,
     "input": [
      "def deprocess_image(x):\n",
      "    # normalize tensor: center on 0., ensure std is 0.1\n",
      "    x -= x.mean()\n",
      "    x /= (x.std() + 1e-5)\n",
      "    x *= 0.05\n",
      "\n",
      "    # clip to [0, 1]\n",
      "    x += 0.5\n",
      "    x = np.clip(x, 0, 1)\n",
      "\n",
      "    # convert to RGB array\n",
      "    x *= 255\n",
      "#     x = np.mean(x, axis=2)\n",
      "    x = np.clip(x, 0, 255).astype('uint8')\n",
      "    return x"
     ],
     "language": "python",
     "metadata": {},
     "outputs": [],
     "prompt_number": 35
    }
   ],
   "metadata": {}
  }
 ]
}